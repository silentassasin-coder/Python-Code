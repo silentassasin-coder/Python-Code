{
  "nbformat": 4,
  "nbformat_minor": 0,
  "metadata": {
    "colab": {
      "name": "Day 1 Assignment.ipynb",
      "provenance": [],
      "authorship_tag": "ABX9TyMg7+px/7u6xswm9YawIZR7",
      "include_colab_link": true
    },
    "kernelspec": {
      "name": "python3",
      "display_name": "Python 3"
    },
    "language_info": {
      "name": "python"
    }
  },
  "cells": [
    {
      "cell_type": "markdown",
      "metadata": {
        "id": "view-in-github",
        "colab_type": "text"
      },
      "source": [
        "<a href=\"https://colab.research.google.com/github/silentassasin-coder/Python-Code/blob/main/Day_1_Assignment.ipynb\" target=\"_parent\"><img src=\"https://colab.research.google.com/assets/colab-badge.svg\" alt=\"Open In Colab\"/></a>"
      ]
    },
    {
      "cell_type": "code",
      "metadata": {
        "colab": {
          "base_uri": "https://localhost:8080/"
        },
        "id": "5Y8c6zaUzwhX",
        "outputId": "0ceb0f41-d1a9-4fe6-f088-ac811dddab4d"
      },
      "source": [
        "  \n",
        "Type : 1\n",
        "x = int(input('Enter value of x:'))\n",
        "y = int(input('Enter value of y :'))\n",
        "\n",
        "print ('total:', x**y)"
      ],
      "execution_count": 1,
      "outputs": [
        {
          "output_type": "stream",
          "text": [
            "Enter value of x:5\n",
            "Enter value of y :2\n",
            "total: 25\n"
          ],
          "name": "stdout"
        }
      ]
    },
    {
      "cell_type": "code",
      "metadata": {
        "colab": {
          "base_uri": "https://localhost:8080/"
        },
        "id": "10zzu-4Hz0mA",
        "outputId": "15f92652-b708-4a1b-ca39-fd78c228259e"
      },
      "source": [
        "Type : 2\n",
        "x = int(input('Enter value of x:'))\n",
        "y = int(input('Enter value of y :'))\n",
        "\n",
        "print (x**y)"
      ],
      "execution_count": 3,
      "outputs": [
        {
          "output_type": "stream",
          "text": [
            "Enter value of x:4\n",
            "Enter value of y :2\n",
            "16\n"
          ],
          "name": "stdout"
        }
      ]
    },
    {
      "cell_type": "code",
      "metadata": {
        "colab": {
          "base_uri": "https://localhost:8080/"
        },
        "id": "1U4Th8XKz8a5",
        "outputId": "920bd349-6160-4621-ab22-e55b6234917b"
      },
      "source": [
        "Type : 3\n",
        "x = int(input('Enter value of x:'))\n",
        "y = int(input('Enter value of y :'))\n",
        "\n",
        "res = (x**y)\n",
        "\n",
        "print ('total:', res)"
      ],
      "execution_count": 4,
      "outputs": [
        {
          "output_type": "stream",
          "text": [
            "Enter value of x:5\n",
            "Enter value of y :3\n",
            "total: 125\n"
          ],
          "name": "stdout"
        }
      ]
    },
    {
      "cell_type": "code",
      "metadata": {
        "id": "u2RQX86f0ESA"
      },
      "source": [
        ""
      ],
      "execution_count": null,
      "outputs": []
    }
  ]
}